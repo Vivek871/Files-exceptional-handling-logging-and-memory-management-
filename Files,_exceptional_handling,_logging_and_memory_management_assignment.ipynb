{
  "nbformat": 4,
  "nbformat_minor": 0,
  "metadata": {
    "colab": {
      "provenance": []
    },
    "kernelspec": {
      "name": "python3",
      "display_name": "Python 3"
    },
    "language_info": {
      "name": "python"
    }
  },
  "cells": [
    {
      "cell_type": "markdown",
      "source": [
        "#Files, exceptional handling, logging and    \n",
        "memory management"
      ],
      "metadata": {
        "id": "Icbl2o75I_IH"
      }
    },
    {
      "cell_type": "markdown",
      "source": [
        " 1.What is the difference between interpreted and compiled languages?\n",
        "\n",
        " -Compiled Languages: The code is translated into machine code (executable code) before execution. This process is done by a compiler. Examples: C, C++. The entire program is compiled at once.\n",
        "Interpreted Languages: The code is translated and executed line by line by an interpreter at runtime. Examples: Python, JavaScript. The interpreter reads and executes each line as it encounters it.\n",
        "\n",
        " 2.What is exception handling in Python?\n",
        "\n",
        " -Exception handling is a mechanism in Python to deal with errors (exceptions) that occur during the execution of a program. It allows you to gracefully handle unexpected situations, prevent program crashes, and maintain control flow.\n",
        "\n",
        " 3.What is the purpose of the finally block in exception handling?\n",
        "\n",
        " -The finally block in exception handling is used to define a block of code that will always be executed, regardless of whether an exception occurred in the try block or not. It is typically used for cleanup operations, such as closing files or releasing resources.\n",
        "\n",
        " 4.What is logging in Python?\n",
        "\n",
        " -Logging is a way to record events that happen during the execution of a program. It provides a structured way to track the flow of your application, diagnose issues, and understand what's happening at different stages. Python's built-in logging module provides a flexible framework for this\n",
        "\n",
        " 5.What is the significance of the __del__ method in Python?\n",
        "\n",
        " -The __del__ method, also known as the destructor, is called when an object is about to be destroyed (garbage collected). It's used for cleanup operations related to the object's resources before it's removed from memory. However, relying heavily on __del__ is generally discouraged due to the unpredictable nature of garbage collection.\n",
        "\n",
        " 6.What is the difference between import and from ... import in Python?\n",
        "\n",
        " -import module_name: Imports the entire module. You access its contents using module_name.item_name.\n",
        "from module_name import item_name: Imports specific items (functions, classes, variables) from a module. You can then access them directly using item_name.\n",
        "from module_name import : Imports all items from a module. This is generally discouraged in production code as it can lead to naming conflicts.\n",
        "\n",
        " 7.How can you handle multiple exceptions in Python?\n",
        "\n",
        " -You can handle multiple exceptions in Python using multiple except blocks or by providing a tuple of exception types to a single except block:\n",
        "\n",
        " try:\n",
        "    # Code that might raise exceptions\n",
        "    pass\n",
        "except (TypeError, ValueError) as e:\n",
        "    # Handle TypeError or ValueError\n",
        "    print(f\"An error occurred: {e}\")\n",
        "except Exception as e:\n",
        "    # Handle any other exception\n",
        "    print(f\"An unexpected error occurred: {e}\")\n",
        "\n",
        " 8.What is the purpose of the with statement when handling files in Python?\n",
        "\n",
        " -The with statement is used for resource management, especially when working with files. It ensures that resources are properly acquired and released, even if exceptions occur. When used with file handling, it automatically closes the file when the block is exited, preventing resource leaks.\n",
        "\n",
        " with open(\"myfile.txt\", \"r\") as f:\n",
        "    content = f.read()\n",
        "\n",
        "\n",
        " 9.What is the difference between multithreading and multiprocessing?\n",
        "\n",
        " -Multithreading: Involves multiple threads within a single process. Threads share the same memory space. They are suitable for I/O-bound tasks (tasks that spend a lot of time waiting for input/output operations), as the Global Interpreter Lock (GIL) in Python can limit their effectiveness for CPU-bound tasks.\n",
        "Multiprocessing: Involves multiple independent processes, each with its own memory space. They are suitable for CPU-bound tasks, as they can utilize multiple CPU cores.\n",
        "\n",
        " 10.What are the advantages of using logging in a program?\n",
        "\n",
        " -Advantages of using Logging:\n",
        "Debugging: Helps pinpoint errors and understand the program's execution flow.\n",
        "Monitoring: Provides insights into the program's behavior in production.\n",
        "Auditing: Records important events for security or compliance.\n",
        "Troubleshooting: Makes it easier to diagnose issues reported by users.\n",
        "Flexibility: You can control the level of detail logged and where the logs are sent (console, file, etc.).\n",
        "\n",
        " 11.What is memory management in Python?\n",
        "\n",
        " -Memory management in Python is handled automatically through a private heap containing all Python objects and data structures. The Python memory manager allocates and deallocates memory from this heap. It uses techniques like reference counting and garbage collection to manage memory.\n",
        "\n",
        " 12.What are the basic steps involved in exception handling in Python?\n",
        "\n",
        " -Basic Steps in Exception Handling:\n",
        "1.try block: Contains the code that might raise an exception.\n",
        "2.except block(s): Catch specific exceptions that might occur in the try block and handle them.\n",
        "3.else block (optional): Executes if no exception occurred in the try block.\n",
        "4.finally block (optional): Executes regardless of whether an exception occurred or not.\n",
        "\n",
        " 13.Why is memory management important in Python?\n",
        "\n",
        " -Importance of Memory Management: Efficient memory management is crucial for:\n",
        "Preventing memory leaks: Avoiding the accumulation of unused memory, which can slow down the program or cause it to crash.\n",
        "Optimizing performance: Efficiently using memory resources.\n",
        "Ensuring program stability: Preventing crashes due to out-of-memory errors.\n",
        "\n",
        " 14.What is the role of try and except in exception handling?\n",
        "\n",
        " -Role of try and except:\n",
        "try: Encloses the code that is to be monitored for exceptions. If an exception occurs within the try block, the execution is immediately transferred to the corresponding except block.\n",
        "except: Specifies how to handle a particular type of exception. If the exception raised in the try block matches the type specified in an except block, the code within that except block is executed.\n",
        "\n",
        " 15.How does Python's garbage collection system work?\n",
        "\n",
        " -Python uses two main mechanisms for garbage collection:\n",
        "Reference Counting: Each object has a count of how many references point to it. When the count drops to zero, the object is deallocated.\n",
        "Generational Garbage Collection: A cyclic garbage collector is used to detect and collect objects that are part of reference cycles (where objects refer to each other but are no longer accessible from outside). It divides objects into generations and collects older generations less frequently.\n",
        "\n",
        " 16.What is the purpose of the else block in exception handling?\n",
        "\n",
        " -The else block is executed only if the code within the try block completes successfully without raising any exceptions. It's useful for putting code that should only run if no errors occurred.\n",
        "\n",
        " 17.What are the common logging levels in Python?\n",
        "\n",
        " -Python's logging module defines several logging levels in increasing order of severity:\n",
        "DEBUG: Detailed information, typically only of interest when diagnosing problems.\n",
        "\n",
        "INFO: Confirmation that things are working as expected.\n",
        "\n",
        "WARNING: An indication that something unexpected happened, or might happen in the near future (e.g., 'disk space low'). The software is still working as expected.\n",
        "\n",
        "ERROR: Due to a more serious problem, the software has not been able to perform some function.\n",
        "\n",
        "CRITICAL: A serious error, indicating that the program itself may be unable to continue running.\n",
        "\n",
        " 18.What is the difference between os.fork() and multiprocessing in Python?\n",
        "\n",
        " -Difference between os.fork() and multiprocessing:\n",
        "\n",
        "os.fork(): Creates a new process that is a copy of the current process. It's a lower-level system call and is not available on all operating systems (e.g., Windows).\n",
        "\n",
        "multiprocessing: A higher-level module that provides an API for creating and managing processes. It's cross-platform and offers more features for inter-process communication and synchronization. It often uses os.fork() internally on systems where it's available.\n",
        "\n",
        " 19.What is the importance of closing a file in Python?\n",
        "\n",
        " -Closing a file releases the resources associated with it, such as the file handle and any buffers. Failing to close a file can lead to:\n",
        "Resource leaks: The operating system might run out of available file handles.\n",
        "\n",
        "Data loss: Data written to the file might not be flushed from the buffer to the disk.\n",
        "File corruption: The file might be left in an inconsistent state. Using the with statement is the recommended way to ensure files are automatically closed.\n",
        "\n",
        " 20.What is the difference between file.read() and file.readline() in Python?\n",
        "\n",
        " -file.read(): Reads the entire content of the file as a single string. You can optionally provide a size argument to read a specified number of bytes.\n",
        "\n",
        "file.readline(): Reads a single line from the file, including the newline character at the end.\n",
        "\n",
        " 21.What is the logging module in Python used for?\n",
        "\n",
        " -The logging module in Python is used to add logging capabilities to your applications. It allows you to:\n",
        "Record events with different severity levels.\n",
        "Format log messages.\n",
        "Send log messages to various destinations (console, files, network).\n",
        "Filter log messages based on their severity or other criteria\n",
        "\n",
        " 22.What is the os module in Python used for in file handling?\n",
        "\n",
        " -The os module provides a way to interact with the operating system. In file handling, it's used for tasks such as:\n",
        "Getting the current working directory.\n",
        "Changing the current working directory.\n",
        "Creating and deleting directories.\n",
        "Listing files and directories.\n",
        "Checking file permissions and metadata.\n",
        "\n",
        " 23.What are the challenges associated with memory management in Python?\n",
        "\n",
        " -While Python's automatic memory management is convenient, it can present challenges:\n",
        "Reference Cycles: Objects that form cycles can sometimes prevent garbage collection.\n",
        "Unpredictability of Garbage Collection: You don't have fine-grained control over when garbage collection occurs.\n",
        "Memory Overhead: The memory manager itself consumes some memory.\n",
        "Debugging Memory Issues: It can be challenging to diagnose memory leaks or excessive memory consumption.\n",
        "\n",
        " 24.How do you raise an exception manually in Python?\n",
        "\n",
        " -You can raise an exception manually in Python using the raise statement followed by the exception type and an optional error message:\n",
        " if condition:\n",
        "    raise ValueError(\"Invalid value provided.\")\n",
        "\n",
        " 25.Why is it important to use multithreading in certain applications?\n",
        "\n",
        " -Multithreading is important for applications that involve I/O-bound operations, such as:\n",
        "Network applications: Waiting for responses from servers.\n",
        "GUI applications: Keeping the user interface responsive while performing background tasks.\n",
        "File operations: Reading from or writing to files. In these cases, multithreading allows the program to continue executing other tasks while waiting for I/O operations to complete, improving performance and responsiveness."
      ],
      "metadata": {
        "id": "1FbGKhEAJCD5"
      }
    },
    {
      "cell_type": "markdown",
      "source": [
        "1.How can you open a file for writing in Python and write a string to it?\n",
        "\n",
        "2.Write a Python program to read the contents of a file and print each line?\n",
        "\n",
        "3.How would you handle a case where the file doesn't exist while trying to open it for reading?\n",
        "\n",
        "\n",
        "4.Write a Python script that reads from one file and writes its content to another file.\n",
        "\n",
        "5.How would you catch and handle division by zero error in Python?\n",
        "\n",
        "6.Write a Python program that logs an error message to a log file when a division by zero exception occurs.\n",
        "\n",
        "7.How do you log information at different levels (INFO, ERROR, WARNING) in Python using the logging module?\n",
        "\n",
        "\n",
        "8.Write a program to handle a file opening error using exception handling.\n",
        "\n",
        "9.How can you read a file line by line and store its content in a list in Python?\n",
        "\n",
        "10.How can you append data to an existing file in Python?\n",
        "\n",
        "11.Write a Python program that uses a try-except block to handle an error when attempting to access a\n",
        "dictionary key that doesn't exist.\n",
        "\n",
        "12.Write a program that demonstrates using multiple except blocks to handle different types of exceptions.\n",
        "\n",
        "13.How would you check if a file exists before attempting to read it in Python?\n",
        "\n",
        "14.Write a program that uses the logging module to log both informational and error messages.\n",
        "\n",
        "15.Write a Python program that prints the content of a file and handles the case when the file is empty.\n",
        "\n",
        "16.Demonstrate how to use memory profiling to check the memory usage of a small program.\n",
        "\n",
        "17.Write a Python program to create and write a list of numbers to a file, one number per line.\n",
        "\n",
        "18.How would you implement a basic logging setup that logs to a file with rotation after 1MB?\n",
        "\n",
        "19.Write a program that handles both IndexError and KeyError using a try-except block.\n",
        "\n",
        "20.How would you open a file and read its contents using a context manager in Python?\n",
        "\n",
        "21.Write a Python program that reads a file and prints the number of occurrences of a specific word.\n",
        "\n",
        "22.How can you check if a file is empty before attempting to read its contents?\n",
        "\n",
        "23.Write a Python program that writes to a log file when an error occurs during file handling.\n",
        "\n"
      ],
      "metadata": {
        "id": "gIdWA-0_Pdwe"
      }
    },
    {
      "cell_type": "markdown",
      "source": [
        "#practical"
      ],
      "metadata": {
        "id": "V5q6w9yCffi_"
      }
    },
    {
      "cell_type": "markdown",
      "source": [
        "1.How can you open a file for writing in Python and write a string to it?"
      ],
      "metadata": {
        "id": "EE7vm_XVXdRu"
      }
    },
    {
      "cell_type": "code",
      "metadata": {
        "colab": {
          "base_uri": "https://localhost:8080/"
        },
        "id": "f7182ca1",
        "outputId": "c002519c-9677-4197-bb30-9bcc9b5a9f30"
      },
      "source": [
        "file_content = \"Hello, this is some text to write to a file.\"\n",
        "\n",
        "try:\n",
        "    with open(\"my_output_file.txt\", \"w\") as f:\n",
        "        f.write(file_content)\n",
        "    print(\"Successfully wrote to my_output_file.txt\")\n",
        "except IOError as e:\n",
        "    print(f\"An error occurred while writing to the file: {e}\")"
      ],
      "execution_count": 3,
      "outputs": [
        {
          "output_type": "stream",
          "name": "stdout",
          "text": [
            "Successfully wrote to my_output_file.txt\n"
          ]
        }
      ]
    },
    {
      "cell_type": "markdown",
      "source": [
        "2.Write a Python program to read the contents of a file and print each line?"
      ],
      "metadata": {
        "id": "DBxVmUw2Xnnu"
      }
    },
    {
      "cell_type": "code",
      "metadata": {
        "colab": {
          "base_uri": "https://localhost:8080/"
        },
        "id": "e7142896",
        "outputId": "2a165940-bdcb-4fe6-de36-93ab7d95cd7d"
      },
      "source": [
        "try:\n",
        "    with open(\"my_output_file.txt\", \"r\") as f:\n",
        "        print(\"\\nReading my_output_file.txt line by line:\")\n",
        "        for line in f:\n",
        "            print(line.strip())\n",
        "except FileNotFoundError:\n",
        "    print(\"\\nError: my_output_file.txt not found.\")\n",
        "except IOError as e:\n",
        "    print(f\"\\nAn error occurred while reading the file: {e}\")"
      ],
      "execution_count": 4,
      "outputs": [
        {
          "output_type": "stream",
          "name": "stdout",
          "text": [
            "\n",
            "Reading my_output_file.txt line by line:\n",
            "Hello, this is some text to write to a file.\n"
          ]
        }
      ]
    },
    {
      "cell_type": "markdown",
      "source": [
        "3.How would you handle a case where the file doesn't exist while trying to open it for reading?"
      ],
      "metadata": {
        "id": "-X4LqrRFYIrJ"
      }
    },
    {
      "cell_type": "code",
      "metadata": {
        "colab": {
          "base_uri": "https://localhost:8080/"
        },
        "id": "8b480b34",
        "outputId": "33036629-2591-468b-ba9f-b1bfe3cd529c"
      },
      "source": [
        "try:\n",
        "    with open(\"non_existent_file.txt\", \"r\") as f:\n",
        "        content = f.read()\n",
        "        print(\"\\nContent of non_existent_file.txt:\")\n",
        "        print(content)\n",
        "except FileNotFoundError:\n",
        "    print(\"\\nSuccessfully caught FileNotFoundError: non_existent_file.txt does not exist.\")\n",
        "except IOError as e:\n",
        "    print(f\"\\nAn error occurred while reading the file: {e}\")"
      ],
      "execution_count": 5,
      "outputs": [
        {
          "output_type": "stream",
          "name": "stdout",
          "text": [
            "\n",
            "Successfully caught FileNotFoundError: non_existent_file.txt does not exist.\n"
          ]
        }
      ]
    },
    {
      "cell_type": "markdown",
      "source": [
        "4.Write a Python script that reads from one file and writes its content to another file."
      ],
      "metadata": {
        "id": "WXrFp4SlYX3I"
      }
    },
    {
      "cell_type": "code",
      "metadata": {
        "colab": {
          "base_uri": "https://localhost:8080/"
        },
        "id": "bbcbca6f",
        "outputId": "debad196-f65b-4b4f-aa0b-5c9f0aa4b4db"
      },
      "source": [
        "input_filename = \"my_output_file.txt\"\n",
        "output_filename = \"my_copied_file.txt\"\n",
        "\n",
        "try:\n",
        "    with open(input_filename, \"r\") as infile:\n",
        "        content = infile.read()\n",
        "\n",
        "    with open(output_filename, \"w\") as outfile:\n",
        "        outfile.write(content)\n",
        "    print(f\"\\nSuccessfully copied content from '{input_filename}' to '{output_filename}'.\")\n",
        "\n",
        "except FileNotFoundError:\n",
        "    print(f\"\\nError: The input file '{input_filename}' was not found.\")\n",
        "except IOError as e:\n",
        "    print(f\"\\nAn error occurred during file operation: {e}\")"
      ],
      "execution_count": 6,
      "outputs": [
        {
          "output_type": "stream",
          "name": "stdout",
          "text": [
            "\n",
            "Successfully copied content from 'my_output_file.txt' to 'my_copied_file.txt'.\n"
          ]
        }
      ]
    },
    {
      "cell_type": "markdown",
      "source": [
        "5.How would you catch and handle division by zero error in Python?"
      ],
      "metadata": {
        "id": "LknPRc9LYk_5"
      }
    },
    {
      "cell_type": "code",
      "metadata": {
        "colab": {
          "base_uri": "https://localhost:8080/"
        },
        "id": "3887a39e",
        "outputId": "6920b499-75eb-46cc-ebd6-fb751e97bf2d"
      },
      "source": [
        "numerator = 10\n",
        "denominator = 0\n",
        "\n",
        "try:\n",
        "    result = numerator / denominator\n",
        "    print(f\"\\nResult of division: {result}\")\n",
        "except ZeroDivisionError:\n",
        "    print(\"\\nSuccessfully caught ZeroDivisionError: Cannot divide by zero.\")\n",
        "except Exception as e:\n",
        "    print(f\"\\nAn unexpected error occurred: {e}\")"
      ],
      "execution_count": 7,
      "outputs": [
        {
          "output_type": "stream",
          "name": "stdout",
          "text": [
            "\n",
            "Successfully caught ZeroDivisionError: Cannot divide by zero.\n"
          ]
        }
      ]
    },
    {
      "cell_type": "markdown",
      "source": [
        "6.Write a Python program that logs an error message to a log file when a division by zero exception occurs."
      ],
      "metadata": {
        "id": "NaUEXa26Yz4Z"
      }
    },
    {
      "cell_type": "code",
      "metadata": {
        "colab": {
          "base_uri": "https://localhost:8080/"
        },
        "id": "d3210af5",
        "outputId": "cd4ce03e-394a-45d9-b4fc-acc95d2c0eeb"
      },
      "source": [
        "import logging\n",
        "\n",
        "logging.basicConfig(filename='app_error.log', level=logging.ERROR,\n",
        "                    format='%(asctime)s:%(levelname)s:%(message)s')\n",
        "\n",
        "numerator = 10\n",
        "denominator = 0\n",
        "\n",
        "try:\n",
        "    result = numerator / denominator\n",
        "    print(f\"\\nResult of division: {result}\")\n",
        "except ZeroDivisionError:\n",
        "    logging.error(\"Attempted to divide by zero.\")\n",
        "    print(\"\\nCaught ZeroDivisionError and logged it.\")\n",
        "except Exception as e:\n",
        "    logging.error(f\"An unexpected error occurred: {e}\")\n",
        "    print(f\"\\nCaught an unexpected error and logged it: {e}\")"
      ],
      "execution_count": 8,
      "outputs": [
        {
          "output_type": "stream",
          "name": "stderr",
          "text": [
            "ERROR:root:Attempted to divide by zero.\n"
          ]
        },
        {
          "output_type": "stream",
          "name": "stdout",
          "text": [
            "\n",
            "Caught ZeroDivisionError and logged it.\n"
          ]
        }
      ]
    },
    {
      "cell_type": "markdown",
      "source": [
        "7.How do you log information at different levels (INFO, ERROR, WARNING) in Python using the logging module?"
      ],
      "metadata": {
        "id": "XLWVrvXQZEn8"
      }
    },
    {
      "cell_type": "code",
      "metadata": {
        "colab": {
          "base_uri": "https://localhost:8080/"
        },
        "id": "c1ead536",
        "outputId": "98386469-e41d-4126-a9ab-149d184e5b58"
      },
      "source": [
        "import logging\n",
        "\n",
        "logging.basicConfig(level=logging.INFO, format='%(asctime)s:%(levelname)s:%(message)s')\n",
        "\n",
        "logging.debug(\"This is a debug message (won't be shown with INFO level)\")\n",
        "logging.info(\"This is an informational message.\")\n",
        "logging.warning(\"This is a warning message.\")\n",
        "logging.error(\"This is an error message.\")\n",
        "logging.critical(\"This is a critical message.\")\n",
        "\n",
        "print(\"\\nCheck the console output for messages at different logging levels.\")"
      ],
      "execution_count": 9,
      "outputs": [
        {
          "output_type": "stream",
          "name": "stderr",
          "text": [
            "WARNING:root:This is a warning message.\n",
            "ERROR:root:This is an error message.\n",
            "CRITICAL:root:This is a critical message.\n"
          ]
        },
        {
          "output_type": "stream",
          "name": "stdout",
          "text": [
            "\n",
            "Check the console output for messages at different logging levels.\n"
          ]
        }
      ]
    },
    {
      "cell_type": "markdown",
      "source": [
        "8.Write a program to handle a file opening error using exception handling."
      ],
      "metadata": {
        "id": "wHy-xEbfZZOI"
      }
    },
    {
      "cell_type": "code",
      "metadata": {
        "colab": {
          "base_uri": "https://localhost:8080/"
        },
        "id": "98d64ea6",
        "outputId": "4e5236fb-3b6c-4ba3-a4c7-1fc1a9362d25"
      },
      "source": [
        "try:\n",
        "    with open(\"another_non_existent_file.txt\", \"r\") as f:\n",
        "        content = f.read()\n",
        "        print(\"\\nContent of another_non_existent_file.txt:\")\n",
        "        print(content)\n",
        "except FileNotFoundError:\n",
        "    print(\"\\nSuccessfully handled FileNotFoundError for 'another_non_existent_file.txt'.\")\n",
        "except IOError as e:\n",
        "    print(f\"\\nAn general I/O error occurred: {e}\")\n",
        "except Exception as e:\n",
        "    print(f\"\\nAn unexpected error occurred: {e}\")"
      ],
      "execution_count": 10,
      "outputs": [
        {
          "output_type": "stream",
          "name": "stdout",
          "text": [
            "\n",
            "Successfully handled FileNotFoundError for 'another_non_existent_file.txt'.\n"
          ]
        }
      ]
    },
    {
      "cell_type": "markdown",
      "source": [
        "9.How can you read a file line by line and store its content in a list in Python?"
      ],
      "metadata": {
        "id": "hSOZ8Bi-ZpI2"
      }
    },
    {
      "cell_type": "code",
      "metadata": {
        "colab": {
          "base_uri": "https://localhost:8080/"
        },
        "id": "715d715a",
        "outputId": "fe64211a-3327-4a62-cdca-d3e191249cf6"
      },
      "source": [
        "file_to_read = \"my_output_file.txt\"\n",
        "file_lines = []\n",
        "\n",
        "try:\n",
        "    with open(file_to_read, \"r\") as f:\n",
        "        for line in f:\n",
        "            file_lines.append(line.strip())\n",
        "    print(f\"\\nContent of '{file_to_read}' stored in a list:\")\n",
        "    print(file_lines)\n",
        "\n",
        "except FileNotFoundError:\n",
        "    print(f\"\\nError: The file '{file_to_read}' was not found.\")\n",
        "except IOError as e:\n",
        "    print(f\"\\nAn error occurred while reading the file: {e}\")"
      ],
      "execution_count": 11,
      "outputs": [
        {
          "output_type": "stream",
          "name": "stdout",
          "text": [
            "\n",
            "Content of 'my_output_file.txt' stored in a list:\n",
            "['Hello, this is some text to write to a file.']\n"
          ]
        }
      ]
    },
    {
      "cell_type": "markdown",
      "source": [
        "10.How can you append data to an existing file in Python?"
      ],
      "metadata": {
        "id": "nypAB1QnZ8va"
      }
    },
    {
      "cell_type": "code",
      "metadata": {
        "colab": {
          "base_uri": "https://localhost:8080/"
        },
        "id": "b4510dbd",
        "outputId": "c8889415-332a-49ac-d9bc-c1573f4268ca"
      },
      "source": [
        "file_to_append = \"my_output_file.txt\"\n",
        "data_to_append = \"\\nThis line was appended.\"\n",
        "\n",
        "try:\n",
        "    with open(file_to_append, \"a\") as f:\n",
        "        f.write(data_to_append)\n",
        "    print(f\"\\nSuccessfully appended data to '{file_to_append}'.\")\n",
        "\n",
        "except IOError as e:\n",
        "    print(f\"\\nAn error occurred while appending to the file: {e}\")"
      ],
      "execution_count": 12,
      "outputs": [
        {
          "output_type": "stream",
          "name": "stdout",
          "text": [
            "\n",
            "Successfully appended data to 'my_output_file.txt'.\n"
          ]
        }
      ]
    },
    {
      "cell_type": "markdown",
      "source": [
        "11.Write a Python program that uses a try-except block to handle an error when attempting to access a dictionary key that doesn't exist."
      ],
      "metadata": {
        "id": "BEhJTwzDaNBT"
      }
    },
    {
      "cell_type": "code",
      "metadata": {
        "colab": {
          "base_uri": "https://localhost:8080/"
        },
        "id": "2f18bd14",
        "outputId": "ebdf304c-879e-4b5b-8d75-6adaaa215107"
      },
      "source": [
        "my_dict = {\"name\": \"Alice\", \"age\": 30}\n",
        "\n",
        "try:\n",
        "    value = my_dict[\"city\"]\n",
        "    print(f\"\\nValue for 'city': {value}\")\n",
        "except KeyError:\n",
        "    print(\"\\nSuccessfully caught KeyError: The key 'city' does not exist in the dictionary.\")\n",
        "except Exception as e:\n",
        "    print(f\"\\nAn unexpected error occurred: {e}\")"
      ],
      "execution_count": 13,
      "outputs": [
        {
          "output_type": "stream",
          "name": "stdout",
          "text": [
            "\n",
            "Successfully caught KeyError: The key 'city' does not exist in the dictionary.\n"
          ]
        }
      ]
    },
    {
      "cell_type": "markdown",
      "source": [
        "12.Write a program that demonstrates using multiple except blocks to handle different types of exceptions"
      ],
      "metadata": {
        "id": "-4LfRtKqaYQT"
      }
    },
    {
      "cell_type": "code",
      "metadata": {
        "colab": {
          "base_uri": "https://localhost:8080/"
        },
        "id": "4e8063b9",
        "outputId": "e6463b3a-77a7-4a10-c5fb-6cf1f9e5bcd0"
      },
      "source": [
        "def demonstrate_exceptions(value):\n",
        "    try:\n",
        "        if value == 0:\n",
        "            result = 10 / value\n",
        "        elif value == \"hello\":\n",
        "            result = value + 5\n",
        "        elif value == [1, 2]:\n",
        "             result = value[3]\n",
        "        else:\n",
        "            my_dict = {\"key\": \"value\"}\n",
        "            result = my_dict[value]\n",
        "\n",
        "    except ZeroDivisionError:\n",
        "        print(f\"\\nCaught ZeroDivisionError for value: {value}\")\n",
        "    except TypeError:\n",
        "        print(f\"\\nCaught TypeError for value: {value}\")\n",
        "    except IndexError:\n",
        "        print(f\"\\nCaught IndexError for value: {value}\")\n",
        "    except KeyError:\n",
        "        print(f\"\\nCaught KeyError for value: {value}\")\n",
        "    except Exception as e:\n",
        "        print(f\"\\nCaught an unexpected error for value: {value} - {e}\")\n",
        "    else:\n",
        "        print(f\"\\nNo exception occurred for value: {value}, result: {result}\")\n",
        "    finally:\n",
        "        print(\"Finally block executed.\\n\")\n",
        "\n",
        "demonstrate_exceptions(0)\n",
        "demonstrate_exceptions(\"hello\")\n",
        "demonstrate_exceptions([1, 2])\n",
        "demonstrate_exceptions(\"non_existent_key\")\n",
        "demonstrate_exceptions(5)"
      ],
      "execution_count": 14,
      "outputs": [
        {
          "output_type": "stream",
          "name": "stdout",
          "text": [
            "\n",
            "Caught ZeroDivisionError for value: 0\n",
            "Finally block executed.\n",
            "\n",
            "\n",
            "Caught TypeError for value: hello\n",
            "Finally block executed.\n",
            "\n",
            "\n",
            "Caught IndexError for value: [1, 2]\n",
            "Finally block executed.\n",
            "\n",
            "\n",
            "Caught KeyError for value: non_existent_key\n",
            "Finally block executed.\n",
            "\n",
            "\n",
            "Caught KeyError for value: 5\n",
            "Finally block executed.\n",
            "\n"
          ]
        }
      ]
    },
    {
      "cell_type": "markdown",
      "source": [
        "13.How would you check if a file exists before attempting to read it in Python?"
      ],
      "metadata": {
        "id": "DOhmHZIGaztz"
      }
    },
    {
      "cell_type": "code",
      "metadata": {
        "colab": {
          "base_uri": "https://localhost:8080/"
        },
        "id": "ab1fdd06",
        "outputId": "678f9821-f69f-4dac-e5b1-3605da6fc346"
      },
      "source": [
        "import os\n",
        "\n",
        "file_to_check = \"my_output_file.txt\"\n",
        "\n",
        "if os.path.exists(file_to_check):\n",
        "    print(f\"\\nThe file '{file_to_check}' exists.\")\n",
        "    try:\n",
        "        with open(file_to_check, \"r\") as f:\n",
        "            content = f.read()\n",
        "            print(f\"Content of '{file_to_check}':\\n{content}\")\n",
        "    except IOError as e:\n",
        "        print(f\"An error occurred while reading the file: {e}\")\n",
        "else:\n",
        "    print(f\"\\nThe file '{file_to_check}' does not exist.\")\n",
        "\n",
        "file_to_check_nonexistent = \"this_file_does_not_exist.txt\"\n",
        "if os.path.exists(file_to_check_nonexistent):\n",
        "    print(f\"\\nThe file '{file_to_check_nonexistent}' exists.\")\n",
        "else:\n",
        "    print(f\"\\nThe file '{file_to_check_nonexistent}' does not exist.\")"
      ],
      "execution_count": 15,
      "outputs": [
        {
          "output_type": "stream",
          "name": "stdout",
          "text": [
            "\n",
            "The file 'my_output_file.txt' exists.\n",
            "Content of 'my_output_file.txt':\n",
            "Hello, this is some text to write to a file.\n",
            "This line was appended.\n",
            "\n",
            "The file 'this_file_does_not_exist.txt' does not exist.\n"
          ]
        }
      ]
    },
    {
      "cell_type": "markdown",
      "source": [
        "14.Write a program that uses the logging module to log both informational and error messages"
      ],
      "metadata": {
        "id": "RZvE8Nj-bOQl"
      }
    },
    {
      "cell_type": "code",
      "metadata": {
        "colab": {
          "base_uri": "https://localhost:8080/"
        },
        "id": "41e4d5f6",
        "outputId": "17ac065d-539a-4481-fcf8-e30acec22fab"
      },
      "source": [
        "import logging\n",
        "\n",
        "logging.basicConfig(level=logging.INFO, format='%(asctime)s - %(levelname)s - %(message)s')\n",
        "\n",
        "def perform_operation(data):\n",
        "    try:\n",
        "        logging.info(\"Attempting to perform operation...\")\n",
        "        result = 10 / data\n",
        "        logging.info(f\"Operation successful. Result: {result}\")\n",
        "        return result\n",
        "    except ZeroDivisionError:\n",
        "        logging.error(\"Operation failed: Division by zero occurred.\")\n",
        "        print(\"\\nAn error occurred. Check the logs for details.\")\n",
        "        return None\n",
        "    except Exception as e:\n",
        "        logging.error(f\"An unexpected error occurred: {e}\")\n",
        "        print(\"\\nAn unexpected error occurred. Check the logs for details.\")\n",
        "        return None\n",
        "\n",
        "perform_operation(2)\n",
        "perform_operation(0)"
      ],
      "execution_count": 16,
      "outputs": [
        {
          "output_type": "stream",
          "name": "stderr",
          "text": [
            "ERROR:root:Operation failed: Division by zero occurred.\n"
          ]
        },
        {
          "output_type": "stream",
          "name": "stdout",
          "text": [
            "\n",
            "An error occurred. Check the logs for details.\n"
          ]
        }
      ]
    },
    {
      "cell_type": "markdown",
      "source": [
        "15. Write a Python program that prints the content of a file and handles the case when the file is empty."
      ],
      "metadata": {
        "id": "bhTpmRgfbsdT"
      }
    },
    {
      "cell_type": "code",
      "metadata": {
        "colab": {
          "base_uri": "https://localhost:8080/"
        },
        "id": "d3bbe667",
        "outputId": "378a7da3-377d-4729-c4e7-bf80f00f2235"
      },
      "source": [
        "import os\n",
        "\n",
        "def print_file_content(filename):\n",
        "    try:\n",
        "        if not os.path.exists(filename):\n",
        "            print(f\"\\nError: The file '{filename}' was not found.\")\n",
        "            return\n",
        "\n",
        "        if os.path.getsize(filename) == 0:\n",
        "            print(f\"\\nThe file '{filename}' is empty.\")\n",
        "        else:\n",
        "            with open(filename, 'r') as f:\n",
        "                content = f.read()\n",
        "                print(f\"\\nContent of '{filename}':\\n{content}\")\n",
        "\n",
        "    except IOError as e:\n",
        "        print(f\"\\nAn error occurred while reading the file '{filename}': {e}\")\n",
        "    except Exception as e:\n",
        "        print(f\"\\nAn unexpected error occurred: {e}\")\n",
        "\n",
        "\n",
        "empty_file_name = \"empty_file.txt\"\n",
        "with open(empty_file_name, \"w\") as f:\n",
        "    pass\n",
        "\n",
        "\n",
        "file_with_content = \"my_output_file.txt\"\n",
        "\n",
        "print_file_content(file_with_content)\n",
        "print_file_content(empty_file_name)\n",
        "print_file_content(\"non_existent_file_for_empty_check.txt\")"
      ],
      "execution_count": 17,
      "outputs": [
        {
          "output_type": "stream",
          "name": "stdout",
          "text": [
            "\n",
            "Content of 'my_output_file.txt':\n",
            "Hello, this is some text to write to a file.\n",
            "This line was appended.\n",
            "\n",
            "The file 'empty_file.txt' is empty.\n",
            "\n",
            "Error: The file 'non_existent_file_for_empty_check.txt' was not found.\n"
          ]
        }
      ]
    },
    {
      "cell_type": "markdown",
      "source": [
        "16.Demonstrate how to use memory profiling to check the memory usage of a small program."
      ],
      "metadata": {
        "id": "ZyTTbBdzbxTy"
      }
    },
    {
      "cell_type": "code",
      "source": [
        "# Install memory_profiler\n",
        "!pip install memory_profiler"
      ],
      "metadata": {
        "colab": {
          "base_uri": "https://localhost:8080/"
        },
        "id": "pwkmfGO1ct0A",
        "outputId": "c5927006-b935-49b8-c66e-19944db3b354"
      },
      "execution_count": 20,
      "outputs": [
        {
          "output_type": "stream",
          "name": "stdout",
          "text": [
            "Requirement already satisfied: memory_profiler in /usr/local/lib/python3.11/dist-packages (0.61.0)\n",
            "Requirement already satisfied: psutil in /usr/local/lib/python3.11/dist-packages (from memory_profiler) (5.9.5)\n"
          ]
        }
      ]
    },
    {
      "cell_type": "code",
      "source": [
        "def create_list():\n",
        "    my_list = [i for i in range(1000000)]  # Create a large list\n",
        "    return my_list\n",
        "\n",
        "print(\"Running memory profiler...\")\n",
        "%memit create_list()"
      ],
      "metadata": {
        "colab": {
          "base_uri": "https://localhost:8080/"
        },
        "id": "bugNv8eXcuuk",
        "outputId": "26808a57-975e-4ed4-d98e-98c65e0b5013"
      },
      "execution_count": 21,
      "outputs": [
        {
          "output_type": "stream",
          "name": "stdout",
          "text": [
            "Running memory profiler...\n"
          ]
        },
        {
          "output_type": "stream",
          "name": "stderr",
          "text": [
            "UsageError: Line magic function `%memit` not found.\n"
          ]
        }
      ]
    },
    {
      "cell_type": "markdown",
      "source": [
        "17.Write a Python program to create and write a list of numbers to a file, one number per line."
      ],
      "metadata": {
        "id": "w95Aou1Ob5z_"
      }
    },
    {
      "cell_type": "code",
      "source": [
        "def write_numbers_to_file(numbers_list, filename):\n",
        "    try:\n",
        "        with open(filename, 'w') as f:\n",
        "            for number in numbers_list:\n",
        "                f.write(str(number) + '\\n')\n",
        "        print(f\"\\nSuccessfully wrote numbers to '{filename}'.\")\n",
        "    except IOError as e:\n",
        "        print(f\"\\nAn error occurred while writing to the file '{filename}': {e}\")\n",
        "    except Exception as e:\n",
        "        print(f\"\\nAn unexpected error occurred: {e}\")\n",
        "\n",
        "my_numbers = [10, 20, 30, 40, 50, 60]\n",
        "output_file = \"numbers_list.txt\"\n",
        "\n",
        "write_numbers_to_file(my_numbers, output_file)"
      ],
      "metadata": {
        "colab": {
          "base_uri": "https://localhost:8080/"
        },
        "id": "PlIoa4cuc65L",
        "outputId": "450c3178-fa75-4d48-c314-5f89c950b529"
      },
      "execution_count": 22,
      "outputs": [
        {
          "output_type": "stream",
          "name": "stdout",
          "text": [
            "\n",
            "Successfully wrote numbers to 'numbers_list.txt'.\n"
          ]
        }
      ]
    },
    {
      "cell_type": "markdown",
      "source": [
        "18.How would you implement a basic logging setup that logs to a file with rotation after 1MB?"
      ],
      "metadata": {
        "id": "6n5zPCLQcESN"
      }
    },
    {
      "cell_type": "code",
      "source": [
        "from logging.handlers import RotatingFileHandler\n",
        "\n",
        "log_file = \"rotating_log.log\"\n",
        "\n",
        "logger = logging.getLogger('rotating_logger')\n",
        "logger.setLevel(logging.INFO)\n",
        "\n",
        "handler = RotatingFileHandler(log_file, maxBytes=1024*1024, backupCount=5)\n",
        "\n",
        "formatter = logging.Formatter('%(asctime)s - %(name)s - %(levelname)s - %(message)s')\n",
        "\n",
        "handler.setFormatter(formatter)\n",
        "\n",
        "logger.addHandler(handler)\n",
        "\n",
        "# Example usage:\n",
        "logger.info(\"This is an info message.\")\n",
        "logger.warning(\"This is a warning message.\")\n",
        "logger.error(\"This is an error message.\")\n",
        "\n",
        "print(f\"\\nLogging is set up to write to '{log_file}' with rotation at 1MB.\")\n",
        "print(\"You can check the file for log messages.\")\n",
        "\n"
      ],
      "metadata": {
        "colab": {
          "base_uri": "https://localhost:8080/"
        },
        "id": "qr5zoaTldJxS",
        "outputId": "f6034ae3-9880-4aa7-f251-3e862231df80"
      },
      "execution_count": 23,
      "outputs": [
        {
          "output_type": "stream",
          "name": "stderr",
          "text": [
            "INFO:rotating_logger:This is an info message.\n",
            "WARNING:rotating_logger:This is a warning message.\n",
            "ERROR:rotating_logger:This is an error message.\n"
          ]
        },
        {
          "output_type": "stream",
          "name": "stdout",
          "text": [
            "\n",
            "Logging is set up to write to 'rotating_log.log' with rotation at 1MB.\n",
            "You can check the file for log messages.\n"
          ]
        }
      ]
    },
    {
      "cell_type": "markdown",
      "source": [
        "19.Write a program that handles both IndexError and KeyError using a try-except block."
      ],
      "metadata": {
        "id": "lYNPEaT2cI_X"
      }
    },
    {
      "cell_type": "code",
      "source": [
        "def handle_errors(data, key=None, index=None):\n",
        "  try:\n",
        "    if key is not None:\n",
        "\n",
        "      value = data[key]\n",
        "      print(f\"\\nSuccessfully accessed value for key '{key}': {value}\")\n",
        "    elif index is not None:\n",
        "\n",
        "      element = data[index]\n",
        "      print(f\"\\nSuccessfully accessed element at index '{index}': {element}\")\n",
        "\n",
        "  except KeyError:\n",
        "    print(f\"\\nCaught KeyError: Key '{key}' not found.\")\n",
        "  except IndexError:\n",
        "    print(f\"\\nCaught IndexError: Index '{index}' is out of bounds.\")\n",
        "  except Exception as e:\n",
        "    print(f\"\\nCaught an unexpected error: {e}\")\n",
        "\n",
        "# Example usage:\n",
        "my_list = [1, 2, 3]\n",
        "my_dict = {\"a\": 1, \"b\": 2}\n",
        "\n",
        "handle_errors(my_list, index=5)\n",
        "handle_errors(my_dict, key=\"c\")\n",
        "handle_errors(my_list, index=1)\n",
        "handle_errors(my_dict, key=\"a\")"
      ],
      "metadata": {
        "colab": {
          "base_uri": "https://localhost:8080/"
        },
        "id": "8_jFKfQyddyM",
        "outputId": "d78c8e10-4e5b-475b-9f25-a88af0823bfc"
      },
      "execution_count": 24,
      "outputs": [
        {
          "output_type": "stream",
          "name": "stdout",
          "text": [
            "\n",
            "Caught IndexError: Index '5' is out of bounds.\n",
            "\n",
            "Caught KeyError: Key 'c' not found.\n",
            "\n",
            "Successfully accessed element at index '1': 2\n",
            "\n",
            "Successfully accessed value for key 'a': 1\n"
          ]
        }
      ]
    },
    {
      "cell_type": "markdown",
      "source": [
        "20.How would you open a file and read its contents using a context manager in Python?"
      ],
      "metadata": {
        "id": "6sXdj_iJcJ4R"
      }
    },
    {
      "cell_type": "code",
      "source": [
        "filename = \"filename.txt\"\n",
        "\n",
        "try:\n",
        "\n",
        "    with open(filename, 'r') as file:\n",
        "\n",
        "        content = file.read()\n",
        "        print(f\"\\nContents of '{filename}':\")\n",
        "        print(content)\n",
        "except FileNotFoundError:\n",
        "    print(f\"\\nError: The file '{filename}' was not found.\")\n",
        "except IOError as e:\n",
        "    print(f\"\\nAn error occurred while reading the file '{filename}': {e}\")\n",
        "except Exception as e:\n",
        "    print(f\"\\nAn unexpected error occurred: {e}\")\n"
      ],
      "metadata": {
        "colab": {
          "base_uri": "https://localhost:8080/"
        },
        "id": "SCgEjz8Wdup2",
        "outputId": "b3efdafe-1912-47cb-c9d0-4377eb4f73e6"
      },
      "execution_count": 25,
      "outputs": [
        {
          "output_type": "stream",
          "name": "stdout",
          "text": [
            "\n",
            "Error: The file 'filename.txt' was not found.\n"
          ]
        }
      ]
    },
    {
      "cell_type": "markdown",
      "source": [
        "21.Write a Python program that reads a file and prints the number of occurrences of a specific word."
      ],
      "metadata": {
        "id": "NWdjc5h1cU4F"
      }
    },
    {
      "cell_type": "code",
      "source": [
        "def count_word_occurrences(filename, target_word):\n",
        "    count = 0\n",
        "    try:\n",
        "        with open(filename, 'r') as f:\n",
        "            for line in f:\n",
        "\n",
        "                words = line.strip().split()\n",
        "                for word in words:\n",
        "\n",
        "                    cleaned_word = word.strip('.,!?;:\"()[]{}').lower()\n",
        "                    if cleaned_word == target_word.lower():\n",
        "                        count += 1\n",
        "        print(f\"\\nThe word '{target_word}' appears {count} times in '{filename}'.\")\n",
        "    except FileNotFoundError:\n",
        "        print(f\"\\nError: The file '{filename}' was not found.\")\n",
        "    except IOError as e:\n",
        "        print(f\"\\nAn error occurred while reading the file '{filename}': {e}\")\n",
        "    except Exception as e:\n",
        "        print(f\"\\nAn unexpected error occurred: {e}\")\n",
        "\n",
        "# Example usage:\n",
        "file_to_analyze = \"my_output_file.txt\"\n",
        "word_to_find = \"file\"\n",
        "\n",
        "\n",
        "if not os.path.exists(file_to_analyze):\n",
        "    with open(file_to_analyze, \"w\") as f:\n",
        "        f.write(\"This is a test file.\\n\")\n",
        "        f.write(\"Let's see how many times the word file appears in this file.\\n\")\n",
        "        f.write(\"Another line with file.\")\n",
        "\n",
        "count_word_occurrences(file_to_analyze, word_to_find)\n",
        "count_word_occurrences(\"non_existent_file_for_word_count.txt\", \"test\")\n",
        "count_word_occurrences(file_to_analyze, \"Python\")"
      ],
      "metadata": {
        "colab": {
          "base_uri": "https://localhost:8080/"
        },
        "id": "nLiT3yned6jr",
        "outputId": "ea6095ed-3cf4-4738-98b0-4b2dbc142e24"
      },
      "execution_count": 26,
      "outputs": [
        {
          "output_type": "stream",
          "name": "stdout",
          "text": [
            "\n",
            "The word 'file' appears 1 times in 'my_output_file.txt'.\n",
            "\n",
            "Error: The file 'non_existent_file_for_word_count.txt' was not found.\n",
            "\n",
            "The word 'Python' appears 0 times in 'my_output_file.txt'.\n"
          ]
        }
      ]
    },
    {
      "cell_type": "markdown",
      "source": [
        "22.How can you check if a file is empty before attempting to read its contents?"
      ],
      "metadata": {
        "id": "Di-7EEVwcZm5"
      }
    },
    {
      "cell_type": "code",
      "source": [
        "def is_file_empty(filename):\n",
        "    \"\"\"\n",
        "    Checks if a file is empty by checking its size.\n",
        "\n",
        "    Args:\n",
        "        filename (str): The path to the file.\n",
        "\n",
        "    Returns:\n",
        "        bool: True if the file is empty or doesn't exist, False otherwise.\n",
        "    \"\"\"\n",
        "    if not os.path.exists(filename):\n",
        "        print(f\"Warning: File '{filename}' not found. Considering it empty for this check.\")\n",
        "        return True\n",
        "\n",
        "    try:\n",
        "\n",
        "        return os.path.getsize(filename) == 0\n",
        "    except OSError as e:\n",
        "        print(f\"Error checking file size for '{filename}': {e}\")\n",
        "        return True\n",
        "\n",
        "# Example usage:\n",
        "empty_file_name = \"temp_empty_file.txt\"\n",
        "with open(empty_file_name, \"w\") as f:\n",
        "    pass\n",
        "\n",
        "file_with_content_name = \"temp_file_with_content.txt\"\n",
        "with open(file_with_content_name, \"w\") as f:\n",
        "    f.write(\"Some content.\")\n",
        "\n",
        "non_existent_file_name = \"temp_non_existent_file.txt\"\n",
        "\n",
        "print(f\"Is '{empty_file_name}' empty? {is_file_empty(empty_file_name)}\")\n",
        "print(f\"Is '{file_with_content_name}' empty? {is_file_empty(file_with_content_name)}\")\n",
        "print(f\"Is '{non_existent_file_name}' empty? {is_file_empty(non_existent_file_name)}\")\n",
        "\n",
        "# Clean up temporary files\n",
        "if os.path.exists(empty_file_name):\n",
        "    os.remove(empty_file_name)\n",
        "if os.path.exists(file_with_content_name):\n",
        "    os.remove(file_with_content_name)\n",
        "\n"
      ],
      "metadata": {
        "colab": {
          "base_uri": "https://localhost:8080/"
        },
        "id": "1Q7yP0KMeKoX",
        "outputId": "07df97fa-8efc-449f-f7a3-be7f4a054cab"
      },
      "execution_count": 27,
      "outputs": [
        {
          "output_type": "stream",
          "name": "stdout",
          "text": [
            "Is 'temp_empty_file.txt' empty? True\n",
            "Is 'temp_file_with_content.txt' empty? False\n",
            "Warning: File 'temp_non_existent_file.txt' not found. Considering it empty for this check.\n",
            "Is 'temp_non_existent_file.txt' empty? True\n"
          ]
        }
      ]
    },
    {
      "cell_type": "markdown",
      "source": [
        "23.Write a Python program that writes to a log file when an error occurs during file handling."
      ],
      "metadata": {
        "id": "Titb3g88cfDF"
      }
    },
    {
      "cell_type": "code",
      "source": [
        "log_filename = \"file_handling_errors.log\"\n",
        "\n",
        "logging.basicConfig(filename=log_filename, level=logging.ERROR,\n",
        "                    format='%(asctime)s:%(levelname)s:%(message)s')\n",
        "\n",
        "def safe_file_read(filename):\n",
        "    \"\"\"\n",
        "    Attempts to read a file and logs an error if it fails.\n",
        "    \"\"\"\n",
        "    try:\n",
        "        with open(filename, 'r') as f:\n",
        "            content = f.read()\n",
        "            print(f\"Successfully read content from '{filename}'.\")\n",
        "            return content\n",
        "    except FileNotFoundError:\n",
        "        error_message = f\"File not found: '{filename}'.\"\n",
        "        logging.error(error_message)\n",
        "        print(f\"Error: {error_message} Logged.\")\n",
        "        return None\n",
        "    except IOError as e:\n",
        "        error_message = f\"I/O error while reading file '{filename}': {e}\"\n",
        "        logging.error(error_message)\n",
        "        print(f\"Error: {error_message} Logged.\")\n",
        "        return None\n",
        "    except Exception as e:\n",
        "        error_message = f\"An unexpected error occurred while handling file '{filename}': {e}\"\n",
        "        logging.error(error_message)\n",
        "        print(f\"Error: {error_message} Logged.\")\n",
        "        return None\n",
        "\n",
        "# Example usage:\n",
        "existing_file = \"my_output_file.txt\"\n",
        "non_existent_file = \"another_non_existent_file_for_logging.txt\"\n",
        "\n",
        "# Attempt to read an existing file\n",
        "print(\"\\nAttempting to read an existing file:\")\n",
        "safe_file_read(existing_file)\n",
        "\n",
        "# Attempt to read a non-existent file\n",
        "print(\"\\nAttempting to read a non-existent file:\")\n",
        "safe_file_read(non_existent_file)\n",
        "\n",
        "print(f\"\\nCheck the log file '{log_filename}' for error messages.\")"
      ],
      "metadata": {
        "colab": {
          "base_uri": "https://localhost:8080/"
        },
        "id": "aWDt8ZgvebXO",
        "outputId": "8cec5ade-f9ae-4fb2-f261-60afa6ce7eaf"
      },
      "execution_count": 28,
      "outputs": [
        {
          "output_type": "stream",
          "name": "stderr",
          "text": [
            "ERROR:root:File not found: 'another_non_existent_file_for_logging.txt'.\n"
          ]
        },
        {
          "output_type": "stream",
          "name": "stdout",
          "text": [
            "\n",
            "Attempting to read an existing file:\n",
            "Successfully read content from 'my_output_file.txt'.\n",
            "\n",
            "Attempting to read a non-existent file:\n",
            "Error: File not found: 'another_non_existent_file_for_logging.txt'. Logged.\n",
            "\n",
            "Check the log file 'file_handling_errors.log' for error messages.\n"
          ]
        }
      ]
    }
  ]
}